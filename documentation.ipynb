{
 "cells": [
  {
   "cell_type": "markdown",
   "metadata": {},
   "source": [
    "<h1>Importing Libraries</h1>\n",
    "<p>Importing necessary libraries like<br><blockquote>numpy<br>matplotlib.pyplot<br>pandas<br>pandas_datareader.data<br>datetime<br>yfinance<br>sklearn.preprocessing<br>keras</blockquote></p>"
   ]
  },
  {
   "cell_type": "code",
   "execution_count": null,
   "metadata": {},
   "outputs": [],
   "source": [
    "import numpy as np\n",
    "import matplotlib.pyplot as plt\n",
    "import pandas as pd\n",
    "import pandas_datareader.data as pdr\n",
    "import datetime as dt\n",
    "import yfinance as yf\n",
    "\n",
    "from sklearn.preprocessing import MinMaxScaler\n",
    "from keras.layers import Dense, Dropout, LSTM\n",
    "from keras.models import Sequential"
   ]
  },
  {
   "cell_type": "markdown",
   "metadata": {},
   "source": [
    "<h1>Data Collection</h1>\n",
    "<p>Using the <i>yfinance</i> library to override <i>pandas</i> datareader’s method to fetch data</p>\n",
    "<blockquote><code>yf.pdr_override()</code></blockquote>\n",
    "<p>Defining the company ticker for fetching the data</p>\n",
    "<blockquote><code>company = <i>ticker</i></code></blockquote>\n",
    "<p>Setting the start and end dates for the data collection.</p>\n",
    "<blockquote><code>start = dt.datetime(<i>starting date</i>)<br>end = dt.datetime(<i>end date</i>)<br><i>NOTE: use dt.datetime.now() for current date</i></code></blockquote>\n",
    "<p>Using pandas_datareader to fetch the data from Yahoo Finance.</p>\n",
    "<blockquote><code>data = pdr.get_data_yahoo(<i>ticker</i>, <i>starting date</i>, <i>ending date</i>)</code></blockquote>"
   ]
  },
  {
   "cell_type": "code",
   "execution_count": null,
   "metadata": {},
   "outputs": [],
   "source": [
    "yf.pdr_override()\n",
    "\n",
    "company = 'BTC-USD'\n",
    "\n",
    "start = dt.datetime(2012,1,1)\n",
    "end = dt.datetime.now()\n",
    "\n",
    "data = pdr.get_data_yahoo(company, start=start, end=end)"
   ]
  },
  {
   "cell_type": "markdown",
   "metadata": {},
   "source": [
    "<h1>Data Preprocessing</h1>\n",
    "<p>Creating a MinMaxScaler to scale the closing prices of the company's stock unit. This scales the largest datapoint to the Max and the smallest datapoint to the Min</p>\n",
    "<blockquote><code>scaler = MinMaxScaler(feature_range=(<i>minimum value</i>,<i> maximum value</i>))</code></blockquote>\n",
    "<p>Transforming the ‘Close’ column values of the data to fit the scaler.</p>\n",
    "<blockquote><code>scaled_data = scaler.fit_transform(data[<i>column name</i>].values.reshape(-1,1))</code></blockquote>"
   ]
  },
  {
   "cell_type": "code",
   "execution_count": null,
   "metadata": {},
   "outputs": [],
   "source": [
    "scaler = MinMaxScaler(feature_range=(0,1))\n",
    "scaled_data = scaler.fit_transform(data['Close'].values.reshape(-1,1))"
   ]
  },
  {
   "cell_type": "markdown",
   "metadata": {},
   "source": [
    "<h1>Feature Engineering</h1>\n",
    "<p>Defining a variable prediction_days as 60.</p>\n",
    "<blockquote><code>prediction_days = <i>number of days</i></code></blockquote>\n",
    "\n",
    "<p>Creating two lists, x_train and y_train, and appending the past 60 days’ scaled data to x_train and the next day’s data to y_train.</p>\n",
    "\n",
    "<blockquote><code>x_train = []\n",
    "\n",
    "y_train = []\n",
    "\n",
    "for x in range(prediction_days, len(scaled_data)):\n",
    "> x_train.append(scaled_data[x-prediction_days:x, 0])\n",
    "<br>y_train.append(scaled_data[x, 0])</code></blockquote>\n",
    "\n",
    "<p>Converting the lists to numpy arrays and reshaping x_train to fit the model.</p>\n",
    "<blockquote><code>x_train, y_train = np.array(x_train), np.array(y_train)<br>\n",
    "x_train = np.reshape(x_train, (x_train.shape[0], x_train.shape[1], 1))</code></blockquote>"
   ]
  },
  {
   "cell_type": "code",
   "execution_count": null,
   "metadata": {},
   "outputs": [],
   "source": [
    "prediction_days = 60\n",
    "\n",
    "x_train = []\n",
    "y_train = []\n",
    "\n",
    "for x in range(prediction_days, len(scaled_data)):\n",
    "    x_train.append(scaled_data[x-prediction_days:x, 0])\n",
    "    y_train.append(scaled_data[x, 0])\n",
    "\n",
    "\n",
    "x_train, y_train = np.array(x_train), np.array(y_train)\n",
    "x_train = np.reshape(x_train, (x_train.shape[0], x_train.shape[1], 1))"
   ]
  },
  {
   "cell_type": "markdown",
   "metadata": {},
   "source": [
    "<h1>Model Building</h1>\n",
    "<p>Creating a Sequential model using Keras</p>\n",
    "<blockquote><code>model = Sequential()</code></blockquote>\n",
    "<p>Addition of three LSTM layers with 50 units each and a dropout of 0.2 after each LSTM layer to prevent overfitting.</p>\n",
    "<blockquote><code>model.add(LSTM(units=50, return_sequences=True, input_shape=(x_train.shape[1], 1)))<br>\n",
    "model.add(Dropout(0.2))<br>\n",
    "model.add(LSTM(units=50, return_sequences=True))<br>\n",
    "model.add(Dropout(0.2))<br>\n",
    "model.add(LSTM(units=50))<br>\n",
    "model.add(Dropout(0.2))</code></blockquote>\n",
    "<p>Addition of a Dense layer with 1 unit at the end.</p>\n",
    "<blockquote><code>model.add(Dense(units=1))</code></blockquote>"
   ]
  },
  {
   "cell_type": "code",
   "execution_count": null,
   "metadata": {},
   "outputs": [],
   "source": [
    "model = Sequential()\n",
    "\n",
    "model.add(LSTM(units=50, return_sequences=True, input_shape=(x_train.shape[1], 1)))\n",
    "model.add(Dropout(0.2))\n",
    "model.add(LSTM(units=50, return_sequences=True))\n",
    "model.add(Dropout(0.2))\n",
    "model.add(LSTM(units=50))\n",
    "model.add(Dropout(0.2))\n",
    "model.add(Dense(units=1))"
   ]
  },
  {
   "cell_type": "markdown",
   "metadata": {},
   "source": [
    "<h1>Model Compilation and Training</h1>\n",
    "<p>Compiling the model with <i>‘adam’</i> optimizer and <i>‘mean_squared_error’</i> as the loss function.</p>\n",
    "<blockquote><code>model.compile(optimizer = <i>optimizer type</i>, loss = <i>regression loss</i>)</code></blockquote>\n",
    "<p>Fitting the model on x_train and y_train for 25 epochs with a batch size of 32.</p>\n",
    "<blockquote><code>model.fit(x_train, y_train, epochs = <i>number of times to train</i>, batch_size = <i>size of batch</i>)</code></blockquote>"
   ]
  },
  {
   "cell_type": "code",
   "execution_count": null,
   "metadata": {},
   "outputs": [],
   "source": [
    "model.compile(optimizer = 'adam', loss = 'mean_squared_error')\n",
    "model.fit(x_train, y_train, epochs = 25, batch_size = 32)"
   ]
  },
  {
   "cell_type": "markdown",
   "metadata": {},
   "source": [
    "<h1>Testing and Prediction</h1>\n",
    "<p>Defining the start and end dates for the test data.</p>\n",
    "<blockquote><code>test_start = dt.datetime(<i>starting date</i>)<br>\n",
    "test_end = dt.datetime(<i>end date</i>)<br><i>NOTE: use dt.datetime.now() for current date</i></code></blockquote>\n",
    "<p>Fetching the test data and storing the actual prices.</p>\n",
    "<blockquote><code>test_data = pdr.get_data_yahoo(<i>ticker</i>, <i>starting date</i>, <i>ending date</i>)<br>\n",
    "actual_prices = test_data[<i>column name</i>].values</code></blockquote>\n",
    "<p>Preparing the model inputs by concatenating the <i>‘Close’</i> column of the data and test data.</p>\n",
    "<blockquote><code>total_dataset = pd.concat((data[<i>column name</i>], test_data[<i>column name</i>]), axis=0)</code></blockquote>\n",
    "<p>Transformation of the model inputs to fit the scaler.</p>\n",
    "<blockquote><code>model_inputs = total_dataset[len(total_dataset) - len(test_data) - prediction_days:].values<br>\n",
    "model_inputs = model_inputs.reshape(-1, 1)<br>\n",
    "model_inputs = scaler.fit_transform(model_inputs)</code></blockquote>\n",
    "<p>Creating a list <i>x_test</i> and appending the past 60 days’ model inputs to it.</p>\n",
    "<blockquote><code>x_test = []<br>\n",
    "\n",
    "for x in range(prediction_days, len(model_inputs)):\n",
    "> x_test.append(model_inputs[x-prediction_days:x, 0])\n",
    "\n",
    "x_test = np.array(x_test)<br>\n",
    "x_test = np.reshape(x_test, (x_test.shape[0], x_test.shape[1], 1))</code></blockquote>\n",
    "<p>Predicting the prices using the model and inverse transforming it to get the actual predicted prices.</p>\n",
    "<blockquote><code>predicted_prices = model.predict(x_test)<br>\n",
    "predicted_prices = scaler.inverse_transform(predicted_prices)</code></blockquote>"
   ]
  },
  {
   "cell_type": "code",
   "execution_count": null,
   "metadata": {},
   "outputs": [],
   "source": [
    "test_start = dt.datetime(2023,7,25)\n",
    "test_end = dt.datetime.now()\n",
    "\n",
    "\n",
    "test_data = pdr.get_data_yahoo(company, start=start, end=end)\n",
    "actual_prices = test_data['Close'].values\n",
    "\n",
    "total_dataset = pd.concat((data['Close'], test_data['Close']), axis=0)\n",
    "\n",
    "\n",
    "model_inputs = total_dataset[len(total_dataset) - len(test_data) - prediction_days:].values\n",
    "model_inputs = model_inputs.reshape(-1, 1)\n",
    "model_inputs = scaler.fit_transform(model_inputs)\n",
    "\n",
    "x_test = []\n",
    "\n",
    "for x in range(prediction_days, len(model_inputs)):\n",
    "    x_test.append(model_inputs[x-prediction_days:x, 0])\n",
    "\n",
    "x_test = np.array(x_test)\n",
    "x_test = np.reshape(x_test, (x_test.shape[0], x_test.shape[1], 1))\n",
    "\n",
    "\n",
    "predicted_prices = model.predict(x_test)\n",
    "predicted_prices = scaler.inverse_transform(predicted_prices)"
   ]
  },
  {
   "cell_type": "markdown",
   "metadata": {},
   "source": [
    "<h1>Visualization</h1>\n",
    "<p>Plotting the actual and predicted prices using matplotlib.pyplot</p>"
   ]
  },
  {
   "cell_type": "code",
   "execution_count": null,
   "metadata": {},
   "outputs": [],
   "source": [
    "plt.plot(actual_prices, color='black', label='Actual Prices')\n",
    "plt.plot(predicted_prices, color='yellow', label='Predicted Prices')\n",
    "plt.title(f'{company} price prediction')\n",
    "plt.xlabel('Time')\n",
    "plt.ylabel(f'{company} Price')\n",
    "plt.legend(loc='upper left')\n",
    "plt.show()"
   ]
  },
  {
   "cell_type": "markdown",
   "metadata": {},
   "source": [
    "<h1>Future Prediction</h1>\n",
    "<p>Preparation of the real data for the future prediction.</p>\n",
    "<blockquote><code>real_data = [model_inputs[len(model_inputs) + 1 - prediction_days:len(model_inputs) + 1, 0]]<br>\n",
    "real_data = np.array(real_data)<br>\n",
    "real_data = np.reshape(x_test, (x_test.shape[0], x_test.shape[1], 1))</code></blockquote>\n",
    "<p>Prediction of the next day’s closing price using the model and inverse transforming it to get the actual predicted price.</p>\n",
    "<blockquote><code>prediction = model.predict(real_data)<br>\n",
    "prediction = scaler.inverse_transform(prediction)<br>\n",
    "print(f'prediction: {prediction}')</code></blockquote>"
   ]
  },
  {
   "cell_type": "code",
   "execution_count": null,
   "metadata": {},
   "outputs": [],
   "source": [
    "real_data = [model_inputs[len(model_inputs) + 1 - prediction_days:len(model_inputs) + 1, 0]]\n",
    "real_data = np.array(real_data)\n",
    "real_data = np.reshape(x_test, (x_test.shape[0], x_test.shape[1], 1))\n",
    "\n",
    "prediction = model.predict(real_data)\n",
    "prediction = scaler.inverse_transform(prediction)\n",
    "print(f'prediction: {prediction}')"
   ]
  }
 ],
 "metadata": {
  "kernelspec": {
   "display_name": "Python 3",
   "language": "python",
   "name": "python3"
  },
  "language_info": {
   "codemirror_mode": {
    "name": "ipython",
    "version": 3
   },
   "file_extension": ".py",
   "mimetype": "text/x-python",
   "name": "python",
   "nbconvert_exporter": "python",
   "pygments_lexer": "ipython3",
   "version": "3.11.3"
  }
 },
 "nbformat": 4,
 "nbformat_minor": 2
}
